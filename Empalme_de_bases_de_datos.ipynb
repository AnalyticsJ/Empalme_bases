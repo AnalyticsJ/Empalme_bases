{
  "nbformat": 4,
  "nbformat_minor": 0,
  "metadata": {
    "colab": {
      "name": "Empalme de bases de datos.ipynb",
      "provenance": [],
      "collapsed_sections": [
        "hMaiaOVQxXR7",
        "t1coaKaf_zxk",
        "h6usKTYCAAXX",
        "M8HLLfvhAGB3"
      ]
    },
    "kernelspec": {
      "name": "python3",
      "display_name": "Python 3"
    },
    "language_info": {
      "name": "python"
    }
  },
  "cells": [
    {
      "cell_type": "markdown",
      "metadata": {
        "id": "ByydEeqBYq2z"
      },
      "source": [
        "# Código para el empalme de bases de datos:\n",
        "Elaborado por: Lizeth Daniela Ortiz - Practicante Coordinación de Analítica.\n",
        "\n",
        "Fecha: 14/09/2021\n",
        "\n",
        "Notas:\n",
        "Hay que tener en cuenta si en el DataFrame principal se estan leyendo los códigos o datos guía (para hacer el empalme) como números o como texto, pues en las correlativas dichos datos deben ser del mismo tipo. Se recomienda utilizar el siguiente código para hacer la verificación: df.dtypes. \n",
        "Además, si en la correlativa se encuentra algún dato repetido, el total de datos del dataframe va a tender a aumentar con cada iteración del loop del merge. Para detectarlo se recomienda usar el siguiente código, ( print(i) y print(df.shape)) en dicho loop y mirar si los resultados de df.shape despúes de correr cada una de las correlativas es igual a los resultados obtenidos al utilizar df.shape antes de correr el loop, si el numero de filas aumenta seguramente hay datos repetidos en las correlativas."
      ]
    },
    {
      "cell_type": "markdown",
      "metadata": {
        "id": "hMaiaOVQxXR7"
      },
      "source": [
        "# Inicialización:"
      ]
    },
    {
      "cell_type": "code",
      "metadata": {
        "colab": {
          "base_uri": "https://localhost:8080/"
        },
        "id": "5_oHViXQMoCd",
        "outputId": "ff2424a8-a188-4012-b7c9-37f15fecfa09"
      },
      "source": [
        "# Dando accedo a Google Drive\n",
        "from google.colab import drive\n",
        "drive.mount('/content/drive')"
      ],
      "execution_count": null,
      "outputs": [
        {
          "output_type": "stream",
          "text": [
            "Mounted at /content/drive\n"
          ],
          "name": "stdout"
        }
      ]
    },
    {
      "cell_type": "code",
      "metadata": {
        "colab": {
          "base_uri": "https://localhost:8080/"
        },
        "id": "nkXaoymWMtNU",
        "outputId": "631e12db-e445-4f7d-f9f2-67063c2e3cb7"
      },
      "source": [
        "from google.colab import drive\n",
        "drive.mount('/content/drive')"
      ],
      "execution_count": null,
      "outputs": [
        {
          "output_type": "stream",
          "text": [
            "Drive already mounted at /content/drive; to attempt to forcibly remount, call drive.mount(\"/content/drive\", force_remount=True).\n"
          ],
          "name": "stdout"
        }
      ]
    },
    {
      "cell_type": "code",
      "metadata": {
        "colab": {
          "base_uri": "https://localhost:8080/"
        },
        "id": "C9xzRc16Mv70",
        "outputId": "01610d00-065c-49a6-afee-07c5476b58eb"
      },
      "source": [
        "# Indica la ruta en la que están los archivos y en la que se van a guardar\n",
        "%cd \"/content/drive/MyDrive/Graduados\""
      ],
      "execution_count": null,
      "outputs": [
        {
          "output_type": "stream",
          "text": [
            "/content/drive/MyDrive/Graduados\n"
          ],
          "name": "stdout"
        }
      ]
    },
    {
      "cell_type": "code",
      "metadata": {
        "id": "Ti2fAXUdMzu9"
      },
      "source": [
        "# Importando las librerías necesarias para hacer el proceso \n",
        "import os\n",
        "import pandas as pd\n",
        "import numpy as np"
      ],
      "execution_count": null,
      "outputs": []
    },
    {
      "cell_type": "code",
      "metadata": {
        "id": "_d2cKs7SBQDo"
      },
      "source": [
        ""
      ],
      "execution_count": null,
      "outputs": []
    },
    {
      "cell_type": "markdown",
      "metadata": {
        "id": "t1coaKaf_zxk"
      },
      "source": [
        "# Leyendo la base de datos:"
      ]
    },
    {
      "cell_type": "code",
      "metadata": {
        "id": "ufVlG_bGM299"
      },
      "source": [
        "#Leer la base de datos y ponerla en un DataFrame\n",
        "url = '/content/drive/MyDrive/Graduados/Base_GraduadosFinalSP.xlsx'\n",
        "df = pd.read_excel (url,'GRADUADOS 2019')"
      ],
      "execution_count": null,
      "outputs": []
    },
    {
      "cell_type": "code",
      "metadata": {
        "id": "YuZGTz3--Cev"
      },
      "source": [
        "# Ver primeras 5 filas del dataframe\n",
        "df.head()"
      ],
      "execution_count": null,
      "outputs": []
    },
    {
      "cell_type": "code",
      "metadata": {
        "id": "xCp4hZ8XrUVr"
      },
      "source": [
        "# Hacer copia de seguridad\n",
        "df2=df.copy()"
      ],
      "execution_count": null,
      "outputs": []
    },
    {
      "cell_type": "code",
      "metadata": {
        "id": "SYHDt3OHvvX3"
      },
      "source": [
        "#Utilizar en caso de que se dañe df\n",
        "#df=df2\n",
        "#df.shape"
      ],
      "execution_count": null,
      "outputs": []
    },
    {
      "cell_type": "markdown",
      "metadata": {
        "id": "h6usKTYCAAXX"
      },
      "source": [
        "# Leyendo las correlativas:"
      ]
    },
    {
      "cell_type": "code",
      "metadata": {
        "id": "2z4NOxyqWJY_"
      },
      "source": [
        "# Guardando las hojas de las correlativas en un dataframe temporal\n",
        "df_temp = pd.read_excel(\"Correlativas graduados procolombia.xlsx\", None)\n",
        "\n",
        "df_temp.keys()"
      ],
      "execution_count": null,
      "outputs": []
    },
    {
      "cell_type": "code",
      "metadata": {
        "id": "7T2ZZvrwWZB8"
      },
      "source": [
        "# Pasando las keys de las correlativas a una lista \n",
        "dictList = list(df_temp.keys())\n",
        "\n",
        "dictList"
      ],
      "execution_count": null,
      "outputs": []
    },
    {
      "cell_type": "code",
      "metadata": {
        "id": "2MKHroPWWry8"
      },
      "source": [
        "for i in dictList:\n",
        "\n",
        "  # el DataFrame se nombrará con “df_” y el nombre de la hoja\n",
        "\n",
        "  globals()[f'df_{i}'] = pd.read_excel( \"Correlativas graduados procolombia.xlsx\" , i )\n",
        "  \n",
        "  print(f'df_{i}')\n"
      ],
      "execution_count": null,
      "outputs": []
    },
    {
      "cell_type": "markdown",
      "metadata": {
        "id": "M8HLLfvhAGB3"
      },
      "source": [
        "# Haciendo el merge y consolidando los resultados:"
      ]
    },
    {
      "cell_type": "code",
      "metadata": {
        "id": "fWK1lKdgXAkf"
      },
      "source": [
        "for i in dictList:\n",
        "  # Haciendo merge \n",
        "  df = pd.merge(df, globals()[f'df_{i}'], how='left', on=[i])\n",
        "  print(i)\n",
        "  print(df.shape)\n",
        "  #print(f'df_{i}')"
      ],
      "execution_count": null,
      "outputs": []
    },
    {
      "cell_type": "code",
      "metadata": {
        "id": "1ygXsyt6XHU_"
      },
      "source": [
        "# Mirar los resultados\n",
        "df"
      ],
      "execution_count": null,
      "outputs": []
    },
    {
      "cell_type": "code",
      "metadata": {
        "id": "Pwm6Wxa9bVDP"
      },
      "source": [
        "# Consolidando los resultados en un csv\n",
        "df.to_excel('Empalme_GraduadosSP.xlsx')"
      ],
      "execution_count": null,
      "outputs": []
    }
  ]
}