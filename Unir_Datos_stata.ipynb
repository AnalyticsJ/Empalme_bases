{
  "nbformat": 4,
  "nbformat_minor": 0,
  "metadata": {
    "colab": {
      "name": " Unir Datos stata.ipynb",
      "provenance": [],
      "collapsed_sections": [
        "wM2PkbcBVT8m",
        "owpDFL_1d8X8"
      ]
    },
    "kernelspec": {
      "name": "python3",
      "display_name": "Python 3"
    },
    "language_info": {
      "name": "python"
    }
  },
  "cells": [
    {
      "cell_type": "markdown",
      "metadata": {
        "id": "wM2PkbcBVT8m"
      },
      "source": [
        "# Código para unir datos dta:\n",
        "\n",
        "Elaborado por: Lizeth Daniela Ortiz - Practicante Coordinación de Analítica.\n",
        "\n",
        "Fecha: 14/09/2021\n",
        "\n",
        "Funcionamiento: Este código tiene como fin unir los datos contenidos en diferentes archivos dta, para así poder consolidarlos en un único documento de tipo csv.\n",
        "En primer lugar, en las celdas 1 y 2, se tiene el código que da acceso a los archivos de drive. Después en la celda 3 se indica cuál es la ruta de la carpeta en la que se encuentran los archivos a unir. Luego, en las celdas 5, 6 y 7 se importan las librerías necesarias para el proceso, se toma la ruta ya mencionada y se crea una lista compuesta por todos los elementos dentro de la carpeta indicada. Adicionalmente, se toma dicha lista y se crea otra ya no solo con el nombre de los elementos, sino con la ubicación de estos para asi poder leerlos. Además, en la celda 10 se crea el DataFrame en el que se unirán todos los datos, y en la 11 se tiene el código que lee y une toda la información. En la anterior instrucción es importante tener en cuenta que se debe guardar cada una de las tablas de datos en un DataFrame para luego unirlas o añadirlas en el datafram en blanco. Finalmente, en las últimas dos celdas se consolida el DataFrame en el archivo final y se imprime.\n",
        "\n"
      ]
    },
    {
      "cell_type": "code",
      "metadata": {
        "id": "3StIhNymN1Dg",
        "colab": {
          "base_uri": "https://localhost:8080/"
        },
        "outputId": "876c41ab-a255-44df-ce14-f8de291a0bc2"
      },
      "source": [
        "# Dando accedo a Google Drive\n",
        "from google.colab import drive\n",
        "drive.mount('/content/drive')"
      ],
      "execution_count": null,
      "outputs": [
        {
          "output_type": "stream",
          "text": [
            "Drive already mounted at /content/drive; to attempt to forcibly remount, call drive.mount(\"/content/drive\", force_remount=True).\n"
          ],
          "name": "stdout"
        }
      ]
    },
    {
      "cell_type": "code",
      "metadata": {
        "id": "EmyZi4q0hFQ7",
        "colab": {
          "base_uri": "https://localhost:8080/"
        },
        "outputId": "965fce1b-71e7-4847-a122-91e3edb364a8"
      },
      "source": [
        "from google.colab import drive\n",
        "drive.mount('/content/drive')"
      ],
      "execution_count": null,
      "outputs": [
        {
          "output_type": "stream",
          "text": [
            "Drive already mounted at /content/drive; to attempt to forcibly remount, call drive.mount(\"/content/drive\", force_remount=True).\n"
          ],
          "name": "stdout"
        }
      ]
    },
    {
      "cell_type": "markdown",
      "metadata": {
        "id": "owpDFL_1d8X8"
      },
      "source": [
        "# Unir y consolidar datos:"
      ]
    },
    {
      "cell_type": "code",
      "metadata": {
        "id": "D-jkQ2lhPkCK"
      },
      "source": [
        "%cd \"/content/drive/MyDrive/Stata/Archivos dta\"\n",
        "# Indica la ruta en la que están los archivos que se van a unir"
      ],
      "execution_count": null,
      "outputs": []
    },
    {
      "cell_type": "code",
      "metadata": {
        "id": "I55MFzOhQFdR"
      },
      "source": [
        "%ls "
      ],
      "execution_count": null,
      "outputs": []
    },
    {
      "cell_type": "code",
      "metadata": {
        "id": "Qr4YeaYJQLXR"
      },
      "source": [
        "# Importando las librerías necesarias para hacer el proceso \n",
        "!pip install pyreadstat\n",
        "import pyreadstat\n",
        "import os\n",
        "import pandas as pd"
      ],
      "execution_count": null,
      "outputs": []
    },
    {
      "cell_type": "code",
      "metadata": {
        "id": "rwijV-WJQTTT"
      },
      "source": [
        "#Toma la ruta de la carpeta indicada en cd%\n",
        "cwd = os.path.abspath('/content/drive/MyDrive/Stata/Archivos dta')\n",
        "cwd"
      ],
      "execution_count": null,
      "outputs": []
    },
    {
      "cell_type": "code",
      "metadata": {
        "id": "sFrrY8S1QW5w"
      },
      "source": [
        "# Crea una lista con todos los elementos de la carpeta indicada\n",
        "files = os.listdir(cwd)"
      ],
      "execution_count": null,
      "outputs": []
    },
    {
      "cell_type": "code",
      "metadata": {
        "id": "SxjbzhOEQawZ"
      },
      "source": [
        "# Muestra la lista de elementos\n",
        "files "
      ],
      "execution_count": null,
      "outputs": []
    },
    {
      "cell_type": "code",
      "metadata": {
        "id": "6nis92WM4fxZ"
      },
      "source": [
        "# Crea una lista con la ruta de acceso a los archivos cotenidos en files\n",
        "files_path=[]\n",
        "for file in files:\n",
        "  files_path.append(os.path.join(cwd, file))"
      ],
      "execution_count": null,
      "outputs": []
    },
    {
      "cell_type": "code",
      "metadata": {
        "id": "GwH2UG1N4uyq"
      },
      "source": [
        "#Muestra la lista con las rutas a los archivos\n",
        "files_path"
      ],
      "execution_count": null,
      "outputs": []
    },
    {
      "cell_type": "code",
      "metadata": {
        "id": "p0e1pb6WQ5wE"
      },
      "source": [
        "# Creando un DataFrame vacio llamado \"df\". Ahí se va a guardar la información. \n",
        "df = pd.DataFrame()"
      ],
      "execution_count": null,
      "outputs": []
    },
    {
      "cell_type": "code",
      "metadata": {
        "id": "kNyItfUWLeHM"
      },
      "source": [
        "# el DataFrame se nombrará con “df_” y un numero\n",
        "for file in files_path:\n",
        "  df_datos, meta = pyreadstat.read_dta(file)\n",
        "  print(df_datos.shape)\n",
        "  df = df.append(df_datos)\n",
        " "
      ],
      "execution_count": null,
      "outputs": []
    },
    {
      "cell_type": "code",
      "metadata": {
        "id": "KX4NqfmOMPwo"
      },
      "source": [
        "# Muestra los datos consolidados en el dataframe\n",
        "df"
      ],
      "execution_count": null,
      "outputs": []
    },
    {
      "cell_type": "code",
      "metadata": {
        "id": "lAhh_Faycnrc"
      },
      "source": [
        "# Consolida el DataFrame en un archivo de tipo csv\n",
        "df.to_csv('ConsolidadoImportaciones2021.csv')"
      ],
      "execution_count": null,
      "outputs": []
    },
    {
      "cell_type": "code",
      "metadata": {
        "id": "lUev4Gp5dvQR"
      },
      "source": [
        "# Lee el archivo, lo asigna a una variable e imprime los datos\n",
        "df_temp = pd.read_csv('ConsolidadoImportaciones.csv', sep = '~', encoding='utf-8-sig')\n",
        "df_temp"
      ],
      "execution_count": null,
      "outputs": []
    }
  ]
}