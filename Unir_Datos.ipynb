{
  "nbformat": 4,
  "nbformat_minor": 0,
  "metadata": {
    "colab": {
      "name": "Unir Datos.ipynb",
      "provenance": [],
      "collapsed_sections": [
        "wM2PkbcBVT8m",
        "owpDFL_1d8X8"
      ]
    },
    "kernelspec": {
      "name": "python3",
      "display_name": "Python 3"
    },
    "language_info": {
      "name": "python"
    }
  },
  "cells": [
    {
      "cell_type": "markdown",
      "metadata": {
        "id": "wM2PkbcBVT8m"
      },
      "source": [
        "# Código para unir datos:\n",
        "\n",
        "Elaborado por: Lizeth Daniela Ortiz - Practicante Coordinación de Analítica.\n",
        "\n",
        "Fecha: 14/09/2021\n",
        "\n",
        "Funcionamiento:Este código tiene como fin unir los datos contenidos en diferentes archivos de Excel, para así poder consolidarlos en un único documento de tipo csv.\n",
        "En primer lugar, en las celdas 1 y 2, se tiene el código que da acceso a los archivos de drive. Después en la celda 3 se indica cuál es la ruta de la carpeta en la que se encuentran los archivos a unir, para luego en las celdas 5, 6 y 7 importar las librerías necesarias para el proceso, tomar la ruta ya mencionada y crear una lista compuesta por todos los elementos dentro de la carpeta anteriormente indicada. Además, en las celdas 9 y 10 se crea el DataFrame en el que se guardaran todos los datos, y se tiene el código que une toda la información. En la anterior instrucción es importante indicar el nombre exacto de la hoja en la que se encuentran los datos de interés, pues cada hoja de cada documento debe tener el mismo nombre. Finalmente, en las últimas dos celdas se consolida el DataFrame en el archivo final y se imprime.\n"
      ]
    },
    {
      "cell_type": "code",
      "metadata": {
        "id": "3StIhNymN1Dg",
        "colab": {
          "base_uri": "https://localhost:8080/"
        },
        "outputId": "adc6e983-993b-43a5-f45e-769163bfbeee"
      },
      "source": [
        "# Dando accedo a Google Drive\n",
        "from google.colab import drive\n",
        "drive.mount('/content/drive')"
      ],
      "execution_count": null,
      "outputs": [
        {
          "output_type": "stream",
          "text": [
            "Drive already mounted at /content/drive; to attempt to forcibly remount, call drive.mount(\"/content/drive\", force_remount=True).\n"
          ],
          "name": "stdout"
        }
      ]
    },
    {
      "cell_type": "code",
      "metadata": {
        "id": "EmyZi4q0hFQ7",
        "colab": {
          "base_uri": "https://localhost:8080/"
        },
        "outputId": "6b64f21b-7952-46d3-d297-7f1497335ab3"
      },
      "source": [
        "from google.colab import drive\n",
        "drive.mount('/content/drive')"
      ],
      "execution_count": null,
      "outputs": [
        {
          "output_type": "stream",
          "text": [
            "Drive already mounted at /content/drive; to attempt to forcibly remount, call drive.mount(\"/content/drive\", force_remount=True).\n"
          ],
          "name": "stdout"
        }
      ]
    },
    {
      "cell_type": "markdown",
      "metadata": {
        "id": "owpDFL_1d8X8"
      },
      "source": [
        "# Unir y consolidar datos:"
      ]
    },
    {
      "cell_type": "code",
      "metadata": {
        "id": "aDK-KpJAjtye",
        "colab": {
          "base_uri": "https://localhost:8080/"
        },
        "outputId": "10039bca-b357-4fcc-b3f8-eb22d3b0b294"
      },
      "source": [
        "%cd \"/content/drive/MyDrive/Stata/Otros\"\n",
        "# Indica la ruta en la que están los archivos que se van a unir"
      ],
      "execution_count": null,
      "outputs": [
        {
          "output_type": "stream",
          "text": [
            "/content/drive/MyDrive/Stata/Otros\n"
          ],
          "name": "stdout"
        }
      ]
    },
    {
      "cell_type": "code",
      "metadata": {
        "id": "I55MFzOhQFdR"
      },
      "source": [
        "%ls "
      ],
      "execution_count": null,
      "outputs": []
    },
    {
      "cell_type": "code",
      "metadata": {
        "id": "Qr4YeaYJQLXR"
      },
      "source": [
        "# Importando las librerías necesarias para hacer el proceso \n",
        "import os\n",
        "import pandas as pd"
      ],
      "execution_count": null,
      "outputs": []
    },
    {
      "cell_type": "code",
      "metadata": {
        "id": "rwijV-WJQTTT"
      },
      "source": [
        "#Toma la ruta de la carpeta indicada en cd%\n",
        "cwd = os.path.abspath('/content/drive/MyDrive/Stata/Otros')\n",
        "cwd"
      ],
      "execution_count": null,
      "outputs": []
    },
    {
      "cell_type": "code",
      "metadata": {
        "id": "sFrrY8S1QW5w"
      },
      "source": [
        "# Crea una lista con todos los elementos de la carpeta indicada\n",
        "files = os.listdir(cwd)"
      ],
      "execution_count": null,
      "outputs": []
    },
    {
      "cell_type": "code",
      "metadata": {
        "id": "SxjbzhOEQawZ"
      },
      "source": [
        "# Muestra la lista de elementos\n",
        "files"
      ],
      "execution_count": null,
      "outputs": []
    },
    {
      "cell_type": "code",
      "metadata": {
        "id": "p0e1pb6WQ5wE"
      },
      "source": [
        "# Creando un DataFrame vacio llamado \"df\". Ahí se va a guardar la información. \n",
        "df = pd.DataFrame()"
      ],
      "execution_count": null,
      "outputs": []
    },
    {
      "cell_type": "code",
      "metadata": {
        "id": "qpc0vZX-Q7Ac"
      },
      "source": [
        "%%time\n",
        "# Para cada uno de los archivos listados en \"files\", hacer lo siguiente: \n",
        "n = 0\n",
        "for file in files:\n",
        "    if file.endswith('.csv'):\n",
        "        n = n + 1\n",
        "        print(file)\n",
        "        df = df.append(pd.read_csv(file), ignore_index=True) # Hacer el append de los archivos. \n",
        "        print(df.columns)\n",
        "        print(df.shape)        \n",
        "        print( str(n) + \" de \" + str(len(files)) + \" archivos\")\n",
        "        print(\"\")"
      ],
      "execution_count": null,
      "outputs": []
    },
    {
      "cell_type": "code",
      "metadata": {
        "id": "6eIIU92sJNXd"
      },
      "source": [
        "# Muestra los datos unidos en el dataframe\n",
        "df"
      ],
      "execution_count": null,
      "outputs": []
    },
    {
      "cell_type": "code",
      "metadata": {
        "id": "lAhh_Faycnrc"
      },
      "source": [
        "# Consolida el DataFrame en un archivo de tipo csv\n",
        "df.to_csv('ConsolidadoImportacionesFT.csv')"
      ],
      "execution_count": null,
      "outputs": []
    },
    {
      "cell_type": "code",
      "metadata": {
        "id": "lUev4Gp5dvQR"
      },
      "source": [
        "# Lee el archivo, lo asigna a una variable e imprime los datos\n",
        "df_temp = pd.read_csv('ConsolidadoImportacionesF2.csv')\n",
        "df_temp"
      ],
      "execution_count": null,
      "outputs": []
    }
  ]
}